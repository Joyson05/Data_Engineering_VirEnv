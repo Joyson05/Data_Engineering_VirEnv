{
 "cells": [
  {
   "cell_type": "code",
   "execution_count": 3,
   "metadata": {},
   "outputs": [
    {
     "name": "stdout",
     "output_type": "stream",
     "text": [
      "{\"@timestamp\":\"2024-04-16T12:58:01.428Z\",\"@version\":\"1\",\"message\":\"Starting AuthApplication v0.0.1-SNAPSHOT using Java 11.0.22 on auth-java-deployment-dtd-65c74f797f-pb7cn with PID 1 (/opt/app/app.jar started by root in /opt/app)\",\"logger_name\":\"com.dtd.auth.AuthApplication\",\"thread_name\":\"main\",\"level\":\"INFO\",\"level_value\":20000}\n",
      "{\"@timestamp\":\"2024-04-16T12:58:01.46Z\",\"@version\":\"1\",\"message\":\"Running with Spring Boot v2.7.0, Spring v5.3.20\",\"logger_name\":\"com.dtd.auth.AuthApplication\",\"thread_name\":\"main\",\"level\":\"DEBUG\",\"level_value\":10000}\n",
      "{\"@timestamp\":\"2024-04-16T12:58:01.461Z\",\"@version\":\"1\",\"message\":\"The following 1 profile is active: \\\"dev\\\"\",\"logger_name\":\"com.dtd.auth.AuthApplication\",\"thread_name\":\"main\",\"level\":\"INFO\",\"level_value\":20000}\n",
      "{\"@timestamp\":\"2024-04-16T12:58:08.687Z\",\"@version\":\"1\",\"message\":\"Started AuthApplication in 8.379 seconds (JVM running for 9.795)\",\"logger_name\":\"com.dtd.auth.AuthApplication\",\"thread_name\":\"main\",\"level\":\"INFO\",\"level_value\":20000}\n",
      "{\"@timestamp\":\"2024-04-16T13:18:15.932Z\",\"@version\":\"1\",\"message\":\"Starting AuthApplication v0.0.1-SNAPSHOT using Java 11.0.22 on auth-java-deployment-dtd-65c74f797f-pb7cn with PID 1 (/opt/app/app.jar started by root in /opt/app)\",\"logger_name\":\"com.dtd.auth.AuthApplication\",\"thread_name\":\"main\",\"level\":\"INFO\",\"level_value\":20000}\n",
      "{\"@timestamp\":\"2024-04-16T13:18:15.953Z\",\"@version\":\"1\",\"message\":\"Running with Spring Boot v2.7.0, Spring v5.3.20\",\"logger_name\":\"com.dtd.auth.AuthApplication\",\"thread_name\":\"main\",\"level\":\"DEBUG\",\"level_value\":10000}\n",
      "{\"@timestamp\":\"2024-04-16T13:18:15.954Z\",\"@version\":\"1\",\"message\":\"The following 1 profile is active: \\\"dev\\\"\",\"logger_name\":\"com.dtd.auth.AuthApplication\",\"thread_name\":\"main\",\"level\":\"INFO\",\"level_value\":20000}\n",
      "{\"@timestamp\":\"2024-04-16T13:18:23.226Z\",\"@version\":\"1\",\"message\":\"Started AuthApplication in 8.046 seconds (JVM running for 9.518)\",\"logger_name\":\"com.dtd.auth.AuthApplication\",\"thread_name\":\"main\",\"level\":\"INFO\",\"level_value\":20000}\n",
      "{\"@timestamp\":\"2024-04-16T13:28:15.347Z\",\"@version\":\"1\",\"message\":\"Starting AuthApplication v0.0.1-SNAPSHOT using Java 11.0.22 on auth-java-deployment-dtd-65c74f797f-pb7cn with PID 1 (/opt/app/app.jar started by root in /opt/app)\",\"logger_name\":\"com.dtd.auth.AuthApplication\",\"thread_name\":\"main\",\"level\":\"INFO\",\"level_value\":20000}\n",
      "{\"@timestamp\":\"2024-04-16T13:28:15.364Z\",\"@version\":\"1\",\"message\":\"Running with Spring Boot v2.7.0, Spring v5.3.20\",\"logger_name\":\"com.dtd.auth.AuthApplication\",\"thread_name\":\"main\",\"level\":\"DEBUG\",\"level_value\":10000}\n",
      "{\"@timestamp\":\"2024-04-16T13:28:15.365Z\",\"@version\":\"1\",\"message\":\"The following 1 profile is active: \\\"dev\\\"\",\"logger_name\":\"com.dtd.auth.AuthApplication\",\"thread_name\":\"main\",\"level\":\"INFO\",\"level_value\":20000}\n",
      "{\"@timestamp\":\"2024-04-16T13:32:56.658Z\",\"@version\":\"1\",\"message\":\"Started AuthApplication in 282.076 seconds (JVM running for 283.789)\",\"logger_name\":\"com.dtd.auth.AuthApplication\",\"thread_name\":\"main\",\"level\":\"INFO\",\"level_value\":20000}\n",
      "{\"@timestamp\":\"2024-04-16T15:43:40.728Z\",\"@version\":\"1\",\"message\":\"Starting AuthApplication v0.0.1-SNAPSHOT using Java 11.0.22 on auth-java-deployment-dtd-65c74f797f-pb7cn with PID 1 (/opt/app/app.jar started by root in /opt/app)\",\"logger_name\":\"com.dtd.auth.AuthApplication\",\"thread_name\":\"main\",\"level\":\"INFO\",\"level_value\":20000}\n",
      "{\"@timestamp\":\"2024-04-16T15:43:40.741Z\",\"@version\":\"1\",\"message\":\"Running with Spring Boot v2.7.0, Spring v5.3.20\",\"logger_name\":\"com.dtd.auth.AuthApplication\",\"thread_name\":\"main\",\"level\":\"DEBUG\",\"level_value\":10000}\n",
      "{\"@timestamp\":\"2024-04-16T15:43:40.742Z\",\"@version\":\"1\",\"message\":\"The following 1 profile is active: \\\"dev\\\"\",\"logger_name\":\"com.dtd.auth.AuthApplication\",\"thread_name\":\"main\",\"level\":\"INFO\",\"level_value\":20000}\n",
      "{\"@timestamp\":\"2024-04-16T15:43:48.376Z\",\"@version\":\"1\",\"message\":\"Started AuthApplication in 8.516 seconds (JVM running for 10.122)\",\"logger_name\":\"com.dtd.auth.AuthApplication\",\"thread_name\":\"main\",\"level\":\"INFO\",\"level_value\":20000}\n",
      "{\"@timestamp\":\"2024-04-16T15:50:06.986Z\",\"@version\":\"1\",\"message\":\"Starting AuthApplication v0.0.1-SNAPSHOT using Java 11.0.22 on auth-java-deployment-dtd-65c74f797f-pb7cn with PID 1 (/opt/app/app.jar started by root in /opt/app)\",\"logger_name\":\"com.dtd.auth.AuthApplication\",\"thread_name\":\"main\",\"level\":\"INFO\",\"level_value\":20000}\n",
      "{\"@timestamp\":\"2024-04-16T15:50:07.025Z\",\"@version\":\"1\",\"message\":\"Running with Spring Boot v2.7.0, Spring v5.3.20\",\"logger_name\":\"com.dtd.auth.AuthApplication\",\"thread_name\":\"main\",\"level\":\"DEBUG\",\"level_value\":10000}\n",
      "{\"@timestamp\":\"2024-04-16T15:50:07.026Z\",\"@version\":\"1\",\"message\":\"The following 1 profile is active: \\\"dev\\\"\",\"logger_name\":\"com.dtd.auth.AuthApplication\",\"thread_name\":\"main\",\"level\":\"INFO\",\"level_value\":20000}\n",
      "{\"@timestamp\":\"2024-04-16T15:55:58.347Z\",\"@version\":\"1\",\"message\":\"Started AuthApplication in 352.707 seconds (JVM running for 354.951)\",\"logger_name\":\"com.dtd.auth.AuthApplication\",\"thread_name\":\"main\",\"level\":\"INFO\",\"level_value\":20000}\n"
     ]
    }
   ],
   "source": [
    "def print_log_file(file_path):\n",
    "    with open(file_path, 'r') as log_file:\n",
    "        for line in log_file:\n",
    "            print(line.strip())\n",
    "log_file=r'D:\\Data_Engineering_VirEnv\\Java_Microservices_Logs\\authService\\authService.2024-04-16.0.log'\n",
    "print_log_file(log_file)"
   ]
  },
  {
   "cell_type": "code",
   "execution_count": 19,
   "metadata": {},
   "outputs": [
    {
     "name": "stdout",
     "output_type": "stream",
     "text": [
      "{\"@timestamp\":\"2024-04-16T12:58:01.428Z\",\"@version\":\"1\",\"message\":\"Starting AuthApplication v0.0.1-SNAPSHOT using Java 11.0.22 on auth-java-deployment-dtd-65c74f797f-pb7cn with PID 1 (/opt/app/app.jar started by root in /opt/app)\",\"logger_name\":\"com.dtd.auth.AuthApplication\",\"thread_name\":\"main\",\"level\":\"INFO\",\"level_value\":20000}\n",
      "{\"@timestamp\":\"2024-04-16T12:58:01.46Z\",\"@version\":\"1\",\"message\":\"Running with Spring Boot v2.7.0, Spring v5.3.20\",\"logger_name\":\"com.dtd.auth.AuthApplication\",\"thread_name\":\"main\",\"level\":\"DEBUG\",\"level_value\":10000}\n",
      "{\"@timestamp\":\"2024-04-16T12:58:01.461Z\",\"@version\":\"1\",\"message\":\"The following 1 profile is active: \\\"dev\\\"\",\"logger_name\":\"com.dtd.auth.AuthApplication\",\"thread_name\":\"main\",\"level\":\"INFO\",\"level_value\":20000}\n",
      "{\"@timestamp\":\"2024-04-16T12:58:08.687Z\",\"@version\":\"1\",\"message\":\"Started AuthApplication in 8.379 seconds (JVM running for 9.795)\",\"logger_name\":\"com.dtd.auth.AuthApplication\",\"thread_name\":\"main\",\"level\":\"INFO\",\"level_value\":20000}\n",
      "{\"@timestamp\":\"2024-04-16T13:18:15.932Z\",\"@version\":\"1\",\"message\":\"Starting AuthApplication v0.0.1-SNAPSHOT using Java 11.0.22 on auth-java-deployment-dtd-65c74f797f-pb7cn with PID 1 (/opt/app/app.jar started by root in /opt/app)\",\"logger_name\":\"com.dtd.auth.AuthApplication\",\"thread_name\":\"main\",\"level\":\"INFO\",\"level_value\":20000}\n",
      "{\"@timestamp\":\"2024-04-16T13:18:15.953Z\",\"@version\":\"1\",\"message\":\"Running with Spring Boot v2.7.0, Spring v5.3.20\",\"logger_name\":\"com.dtd.auth.AuthApplication\",\"thread_name\":\"main\",\"level\":\"DEBUG\",\"level_value\":10000}\n",
      "{\"@timestamp\":\"2024-04-16T13:18:15.954Z\",\"@version\":\"1\",\"message\":\"The following 1 profile is active: \\\"dev\\\"\",\"logger_name\":\"com.dtd.auth.AuthApplication\",\"thread_name\":\"main\",\"level\":\"INFO\",\"level_value\":20000}\n",
      "{\"@timestamp\":\"2024-04-16T13:18:23.226Z\",\"@version\":\"1\",\"message\":\"Started AuthApplication in 8.046 seconds (JVM running for 9.518)\",\"logger_name\":\"com.dtd.auth.AuthApplication\",\"thread_name\":\"main\",\"level\":\"INFO\",\"level_value\":20000}\n",
      "{\"@timestamp\":\"2024-04-16T13:28:15.347Z\",\"@version\":\"1\",\"message\":\"Starting AuthApplication v0.0.1-SNAPSHOT using Java 11.0.22 on auth-java-deployment-dtd-65c74f797f-pb7cn with PID 1 (/opt/app/app.jar started by root in /opt/app)\",\"logger_name\":\"com.dtd.auth.AuthApplication\",\"thread_name\":\"main\",\"level\":\"INFO\",\"level_value\":20000}\n",
      "{\"@timestamp\":\"2024-04-16T13:28:15.364Z\",\"@version\":\"1\",\"message\":\"Running with Spring Boot v2.7.0, Spring v5.3.20\",\"logger_name\":\"com.dtd.auth.AuthApplication\",\"thread_name\":\"main\",\"level\":\"DEBUG\",\"level_value\":10000}\n",
      "{\"@timestamp\":\"2024-04-16T13:28:15.365Z\",\"@version\":\"1\",\"message\":\"The following 1 profile is active: \\\"dev\\\"\",\"logger_name\":\"com.dtd.auth.AuthApplication\",\"thread_name\":\"main\",\"level\":\"INFO\",\"level_value\":20000}\n",
      "{\"@timestamp\":\"2024-04-16T13:32:56.658Z\",\"@version\":\"1\",\"message\":\"Started AuthApplication in 282.076 seconds (JVM running for 283.789)\",\"logger_name\":\"com.dtd.auth.AuthApplication\",\"thread_name\":\"main\",\"level\":\"INFO\",\"level_value\":20000}\n",
      "{\"@timestamp\":\"2024-04-16T15:43:40.728Z\",\"@version\":\"1\",\"message\":\"Starting AuthApplication v0.0.1-SNAPSHOT using Java 11.0.22 on auth-java-deployment-dtd-65c74f797f-pb7cn with PID 1 (/opt/app/app.jar started by root in /opt/app)\",\"logger_name\":\"com.dtd.auth.AuthApplication\",\"thread_name\":\"main\",\"level\":\"INFO\",\"level_value\":20000}\n",
      "{\"@timestamp\":\"2024-04-16T15:43:40.741Z\",\"@version\":\"1\",\"message\":\"Running with Spring Boot v2.7.0, Spring v5.3.20\",\"logger_name\":\"com.dtd.auth.AuthApplication\",\"thread_name\":\"main\",\"level\":\"DEBUG\",\"level_value\":10000}\n",
      "{\"@timestamp\":\"2024-04-16T15:43:40.742Z\",\"@version\":\"1\",\"message\":\"The following 1 profile is active: \\\"dev\\\"\",\"logger_name\":\"com.dtd.auth.AuthApplication\",\"thread_name\":\"main\",\"level\":\"INFO\",\"level_value\":20000}\n",
      "{\"@timestamp\":\"2024-04-16T15:43:48.376Z\",\"@version\":\"1\",\"message\":\"Started AuthApplication in 8.516 seconds (JVM running for 10.122)\",\"logger_name\":\"com.dtd.auth.AuthApplication\",\"thread_name\":\"main\",\"level\":\"INFO\",\"level_value\":20000}\n",
      "{\"@timestamp\":\"2024-04-16T15:50:06.986Z\",\"@version\":\"1\",\"message\":\"Starting AuthApplication v0.0.1-SNAPSHOT using Java 11.0.22 on auth-java-deployment-dtd-65c74f797f-pb7cn with PID 1 (/opt/app/app.jar started by root in /opt/app)\",\"logger_name\":\"com.dtd.auth.AuthApplication\",\"thread_name\":\"main\",\"level\":\"INFO\",\"level_value\":20000}\n",
      "{\"@timestamp\":\"2024-04-16T15:50:07.025Z\",\"@version\":\"1\",\"message\":\"Running with Spring Boot v2.7.0, Spring v5.3.20\",\"logger_name\":\"com.dtd.auth.AuthApplication\",\"thread_name\":\"main\",\"level\":\"DEBUG\",\"level_value\":10000}\n",
      "{\"@timestamp\":\"2024-04-16T15:50:07.026Z\",\"@version\":\"1\",\"message\":\"The following 1 profile is active: \\\"dev\\\"\",\"logger_name\":\"com.dtd.auth.AuthApplication\",\"thread_name\":\"main\",\"level\":\"INFO\",\"level_value\":20000}\n",
      "{\"@timestamp\":\"2024-04-16T15:55:58.347Z\",\"@version\":\"1\",\"message\":\"Started AuthApplication in 352.707 seconds (JVM running for 354.951)\",\"logger_name\":\"com.dtd.auth.AuthApplication\",\"thread_name\":\"main\",\"level\":\"INFO\",\"level_value\":20000}\n",
      "\n"
     ]
    }
   ],
   "source": [
    "file_path=r'D:\\Data_Engineering_VirEnv\\Java_Microservices_Logs\\authService\\authService.2024-04-16.0.log'\n",
    "log_content = \"\"\n",
    "with open(file_path, 'r') as log_file:\n",
    "    log_content = log_file.read()\n",
    "print(log_content)\n",
    "# import pandas as pd\n",
    "# df = pd.DataFrame(log_content)\n",
    "# print(df)"
   ]
  },
  {
   "cell_type": "code",
   "execution_count": 10,
   "metadata": {},
   "outputs": [
    {
     "ename": "ValueError",
     "evalue": "Specified \\n as separator or delimiter. This forces the python engine which does not accept a line terminator. Hence it is not allowed to use the line terminator as separator.",
     "output_type": "error",
     "traceback": [
      "\u001b[1;31m---------------------------------------------------------------------------\u001b[0m",
      "\u001b[1;31mValueError\u001b[0m                                Traceback (most recent call last)",
      "Cell \u001b[1;32mIn[10], line 2\u001b[0m\n\u001b[0;32m      1\u001b[0m \u001b[38;5;28;01mimport\u001b[39;00m \u001b[38;5;21;01mpandas\u001b[39;00m \u001b[38;5;28;01mas\u001b[39;00m \u001b[38;5;21;01mpd\u001b[39;00m\n\u001b[1;32m----> 2\u001b[0m df \u001b[38;5;241m=\u001b[39m \u001b[43mpd\u001b[49m\u001b[38;5;241;43m.\u001b[39;49m\u001b[43mread_csv\u001b[49m\u001b[43m(\u001b[49m\u001b[43mfile_path\u001b[49m\u001b[43m,\u001b[49m\u001b[43m \u001b[49m\u001b[43msep\u001b[49m\u001b[38;5;241;43m=\u001b[39;49m\u001b[38;5;124;43m'\u001b[39;49m\u001b[38;5;130;43;01m\\n\u001b[39;49;00m\u001b[38;5;124;43m'\u001b[39;49m\u001b[43m,\u001b[49m\u001b[43m \u001b[49m\u001b[43mheader\u001b[49m\u001b[38;5;241;43m=\u001b[39;49m\u001b[38;5;28;43;01mNone\u001b[39;49;00m\u001b[43m,\u001b[49m\u001b[43m \u001b[49m\u001b[43mnames\u001b[49m\u001b[38;5;241;43m=\u001b[39;49m\u001b[43m[\u001b[49m\u001b[38;5;124;43m'\u001b[39;49m\u001b[38;5;124;43mlog_entry\u001b[39;49m\u001b[38;5;124;43m'\u001b[39;49m\u001b[43m]\u001b[49m\u001b[43m)\u001b[49m\n\u001b[0;32m      3\u001b[0m \u001b[38;5;28mprint\u001b[39m(df)\n",
      "File \u001b[1;32md:\\Data_Engineering_VirEnv\\env\\lib\\site-packages\\pandas\\io\\parsers\\readers.py:899\u001b[0m, in \u001b[0;36mread_csv\u001b[1;34m(filepath_or_buffer, sep, delimiter, header, names, index_col, usecols, dtype, engine, converters, true_values, false_values, skipinitialspace, skiprows, skipfooter, nrows, na_values, keep_default_na, na_filter, verbose, skip_blank_lines, parse_dates, infer_datetime_format, keep_date_col, date_parser, date_format, dayfirst, cache_dates, iterator, chunksize, compression, thousands, decimal, lineterminator, quotechar, quoting, doublequote, escapechar, comment, encoding, encoding_errors, dialect, on_bad_lines, delim_whitespace, low_memory, memory_map, float_precision, storage_options, dtype_backend)\u001b[0m\n\u001b[0;32m    896\u001b[0m \u001b[38;5;28;01mdel\u001b[39;00m kwds[\u001b[38;5;124m\"\u001b[39m\u001b[38;5;124mfilepath_or_buffer\u001b[39m\u001b[38;5;124m\"\u001b[39m]\n\u001b[0;32m    897\u001b[0m \u001b[38;5;28;01mdel\u001b[39;00m kwds[\u001b[38;5;124m\"\u001b[39m\u001b[38;5;124msep\u001b[39m\u001b[38;5;124m\"\u001b[39m]\n\u001b[1;32m--> 899\u001b[0m kwds_defaults \u001b[38;5;241m=\u001b[39m \u001b[43m_refine_defaults_read\u001b[49m\u001b[43m(\u001b[49m\n\u001b[0;32m    900\u001b[0m \u001b[43m    \u001b[49m\u001b[43mdialect\u001b[49m\u001b[43m,\u001b[49m\n\u001b[0;32m    901\u001b[0m \u001b[43m    \u001b[49m\u001b[43mdelimiter\u001b[49m\u001b[43m,\u001b[49m\n\u001b[0;32m    902\u001b[0m \u001b[43m    \u001b[49m\u001b[43mdelim_whitespace\u001b[49m\u001b[43m,\u001b[49m\n\u001b[0;32m    903\u001b[0m \u001b[43m    \u001b[49m\u001b[43mengine\u001b[49m\u001b[43m,\u001b[49m\n\u001b[0;32m    904\u001b[0m \u001b[43m    \u001b[49m\u001b[43msep\u001b[49m\u001b[43m,\u001b[49m\n\u001b[0;32m    905\u001b[0m \u001b[43m    \u001b[49m\u001b[43mon_bad_lines\u001b[49m\u001b[43m,\u001b[49m\n\u001b[0;32m    906\u001b[0m \u001b[43m    \u001b[49m\u001b[43mnames\u001b[49m\u001b[43m,\u001b[49m\n\u001b[0;32m    907\u001b[0m \u001b[43m    \u001b[49m\u001b[43mdefaults\u001b[49m\u001b[38;5;241;43m=\u001b[39;49m\u001b[43m{\u001b[49m\u001b[38;5;124;43m\"\u001b[39;49m\u001b[38;5;124;43mdelimiter\u001b[39;49m\u001b[38;5;124;43m\"\u001b[39;49m\u001b[43m:\u001b[49m\u001b[43m \u001b[49m\u001b[38;5;124;43m\"\u001b[39;49m\u001b[38;5;124;43m,\u001b[39;49m\u001b[38;5;124;43m\"\u001b[39;49m\u001b[43m}\u001b[49m\u001b[43m,\u001b[49m\n\u001b[0;32m    908\u001b[0m \u001b[43m    \u001b[49m\u001b[43mdtype_backend\u001b[49m\u001b[38;5;241;43m=\u001b[39;49m\u001b[43mdtype_backend\u001b[49m\u001b[43m,\u001b[49m\n\u001b[0;32m    909\u001b[0m \u001b[43m\u001b[49m\u001b[43m)\u001b[49m\n\u001b[0;32m    910\u001b[0m kwds\u001b[38;5;241m.\u001b[39mupdate(kwds_defaults)\n\u001b[0;32m    912\u001b[0m \u001b[38;5;28;01mreturn\u001b[39;00m _read(filepath_or_buffer, kwds)\n",
      "File \u001b[1;32md:\\Data_Engineering_VirEnv\\env\\lib\\site-packages\\pandas\\io\\parsers\\readers.py:1971\u001b[0m, in \u001b[0;36m_refine_defaults_read\u001b[1;34m(dialect, delimiter, delim_whitespace, engine, sep, on_bad_lines, names, defaults, dtype_backend)\u001b[0m\n\u001b[0;32m   1965\u001b[0m     \u001b[38;5;28;01mraise\u001b[39;00m \u001b[38;5;167;01mValueError\u001b[39;00m(\n\u001b[0;32m   1966\u001b[0m         \u001b[38;5;124m\"\u001b[39m\u001b[38;5;124mSpecified a delimiter with both sep and \u001b[39m\u001b[38;5;124m\"\u001b[39m\n\u001b[0;32m   1967\u001b[0m         \u001b[38;5;124m\"\u001b[39m\u001b[38;5;124mdelim_whitespace=True; you can only specify one.\u001b[39m\u001b[38;5;124m\"\u001b[39m\n\u001b[0;32m   1968\u001b[0m     )\n\u001b[0;32m   1970\u001b[0m \u001b[38;5;28;01mif\u001b[39;00m delimiter \u001b[38;5;241m==\u001b[39m \u001b[38;5;124m\"\u001b[39m\u001b[38;5;130;01m\\n\u001b[39;00m\u001b[38;5;124m\"\u001b[39m:\n\u001b[1;32m-> 1971\u001b[0m     \u001b[38;5;28;01mraise\u001b[39;00m \u001b[38;5;167;01mValueError\u001b[39;00m(\n\u001b[0;32m   1972\u001b[0m         \u001b[38;5;124mr\u001b[39m\u001b[38;5;124m\"\u001b[39m\u001b[38;5;124mSpecified \u001b[39m\u001b[38;5;124m\\\u001b[39m\u001b[38;5;124mn as separator or delimiter. This forces the python engine \u001b[39m\u001b[38;5;124m\"\u001b[39m\n\u001b[0;32m   1973\u001b[0m         \u001b[38;5;124m\"\u001b[39m\u001b[38;5;124mwhich does not accept a line terminator. Hence it is not allowed to use \u001b[39m\u001b[38;5;124m\"\u001b[39m\n\u001b[0;32m   1974\u001b[0m         \u001b[38;5;124m\"\u001b[39m\u001b[38;5;124mthe line terminator as separator.\u001b[39m\u001b[38;5;124m\"\u001b[39m,\n\u001b[0;32m   1975\u001b[0m     )\n\u001b[0;32m   1977\u001b[0m \u001b[38;5;28;01mif\u001b[39;00m delimiter \u001b[38;5;129;01mis\u001b[39;00m lib\u001b[38;5;241m.\u001b[39mno_default:\n\u001b[0;32m   1978\u001b[0m     \u001b[38;5;66;03m# assign default separator value\u001b[39;00m\n\u001b[0;32m   1979\u001b[0m     kwds[\u001b[38;5;124m\"\u001b[39m\u001b[38;5;124mdelimiter\u001b[39m\u001b[38;5;124m\"\u001b[39m] \u001b[38;5;241m=\u001b[39m delim_default\n",
      "\u001b[1;31mValueError\u001b[0m: Specified \\n as separator or delimiter. This forces the python engine which does not accept a line terminator. Hence it is not allowed to use the line terminator as separator."
     ]
    }
   ],
   "source": [
    "import pandas as pd\n",
    "df = pd.DataFrame()\n",
    "print(df)"
   ]
  },
  {
   "cell_type": "code",
   "execution_count": 28,
   "metadata": {},
   "outputs": [
    {
     "name": "stdout",
     "output_type": "stream",
     "text": [
      "<class '_io.TextIOWrapper'>\n",
      "                  @timestamp @version  \\\n",
      "0   2024-04-16T12:58:01.428Z        1   \n",
      "1    2024-04-16T12:58:01.46Z        1   \n",
      "2   2024-04-16T12:58:01.461Z        1   \n",
      "3   2024-04-16T12:58:08.687Z        1   \n",
      "4   2024-04-16T13:18:15.932Z        1   \n",
      "5   2024-04-16T13:18:15.953Z        1   \n",
      "6   2024-04-16T13:18:15.954Z        1   \n",
      "7   2024-04-16T13:18:23.226Z        1   \n",
      "8   2024-04-16T13:28:15.347Z        1   \n",
      "9   2024-04-16T13:28:15.364Z        1   \n",
      "10  2024-04-16T13:28:15.365Z        1   \n",
      "11  2024-04-16T13:32:56.658Z        1   \n",
      "12  2024-04-16T15:43:40.728Z        1   \n",
      "13  2024-04-16T15:43:40.741Z        1   \n",
      "14  2024-04-16T15:43:40.742Z        1   \n",
      "15  2024-04-16T15:43:48.376Z        1   \n",
      "16  2024-04-16T15:50:06.986Z        1   \n",
      "17  2024-04-16T15:50:07.025Z        1   \n",
      "18  2024-04-16T15:50:07.026Z        1   \n",
      "19  2024-04-16T15:55:58.347Z        1   \n",
      "\n",
      "                                              message  \\\n",
      "0   Starting AuthApplication v0.0.1-SNAPSHOT using...   \n",
      "1     Running with Spring Boot v2.7.0, Spring v5.3.20   \n",
      "2            The following 1 profile is active: \"dev\"   \n",
      "3   Started AuthApplication in 8.379 seconds (JVM ...   \n",
      "4   Starting AuthApplication v0.0.1-SNAPSHOT using...   \n",
      "5     Running with Spring Boot v2.7.0, Spring v5.3.20   \n",
      "6            The following 1 profile is active: \"dev\"   \n",
      "7   Started AuthApplication in 8.046 seconds (JVM ...   \n",
      "8   Starting AuthApplication v0.0.1-SNAPSHOT using...   \n",
      "9     Running with Spring Boot v2.7.0, Spring v5.3.20   \n",
      "10           The following 1 profile is active: \"dev\"   \n",
      "11  Started AuthApplication in 282.076 seconds (JV...   \n",
      "12  Starting AuthApplication v0.0.1-SNAPSHOT using...   \n",
      "13    Running with Spring Boot v2.7.0, Spring v5.3.20   \n",
      "14           The following 1 profile is active: \"dev\"   \n",
      "15  Started AuthApplication in 8.516 seconds (JVM ...   \n",
      "16  Starting AuthApplication v0.0.1-SNAPSHOT using...   \n",
      "17    Running with Spring Boot v2.7.0, Spring v5.3.20   \n",
      "18           The following 1 profile is active: \"dev\"   \n",
      "19  Started AuthApplication in 352.707 seconds (JV...   \n",
      "\n",
      "                     logger_name thread_name  level  level_value  \n",
      "0   com.dtd.auth.AuthApplication        main   INFO        20000  \n",
      "1   com.dtd.auth.AuthApplication        main  DEBUG        10000  \n",
      "2   com.dtd.auth.AuthApplication        main   INFO        20000  \n",
      "3   com.dtd.auth.AuthApplication        main   INFO        20000  \n",
      "4   com.dtd.auth.AuthApplication        main   INFO        20000  \n",
      "5   com.dtd.auth.AuthApplication        main  DEBUG        10000  \n",
      "6   com.dtd.auth.AuthApplication        main   INFO        20000  \n",
      "7   com.dtd.auth.AuthApplication        main   INFO        20000  \n",
      "8   com.dtd.auth.AuthApplication        main   INFO        20000  \n",
      "9   com.dtd.auth.AuthApplication        main  DEBUG        10000  \n",
      "10  com.dtd.auth.AuthApplication        main   INFO        20000  \n",
      "11  com.dtd.auth.AuthApplication        main   INFO        20000  \n",
      "12  com.dtd.auth.AuthApplication        main   INFO        20000  \n",
      "13  com.dtd.auth.AuthApplication        main  DEBUG        10000  \n",
      "14  com.dtd.auth.AuthApplication        main   INFO        20000  \n",
      "15  com.dtd.auth.AuthApplication        main   INFO        20000  \n",
      "16  com.dtd.auth.AuthApplication        main   INFO        20000  \n",
      "17  com.dtd.auth.AuthApplication        main  DEBUG        10000  \n",
      "18  com.dtd.auth.AuthApplication        main   INFO        20000  \n",
      "19  com.dtd.auth.AuthApplication        main   INFO        20000  \n"
     ]
    }
   ],
   "source": [
    "import pandas as pd\n",
    "import json\n",
    "\n",
    "def json_log_to_dataframe(file_path):\n",
    "    # Initialize an empty list to store JSON objects\n",
    "    json_list = []\n",
    "\n",
    "    # Read the log file line by line\n",
    "    with open(file_path, 'r') as log_file:\n",
    "        print(type(log_file))\n",
    "        for line in log_file:\n",
    "            # Parse each line as JSON\n",
    "            json_obj = json.loads(line)\n",
    "            json_list.append(json_obj)\n",
    "    \n",
    "\n",
    "    # Convert the list of JSON objects to a DataFrame\n",
    "    df = pd.DataFrame(json_list)\n",
    "    return df\n",
    "\n",
    "# Example usage:\n",
    "log_file_path = r'D:\\Data_Engineering_VirEnv\\Java_Microservices_Logs\\authService\\authService.2024-04-16.0.log'\n",
    "log_dataframe = json_log_to_dataframe(log_file_path)\n",
    "\n",
    "# Display the DataFrame\n",
    "print(log_dataframe)\n"
   ]
  }
 ],
 "metadata": {
  "kernelspec": {
   "display_name": "env",
   "language": "python",
   "name": "python3"
  },
  "language_info": {
   "codemirror_mode": {
    "name": "ipython",
    "version": 3
   },
   "file_extension": ".py",
   "mimetype": "text/x-python",
   "name": "python",
   "nbconvert_exporter": "python",
   "pygments_lexer": "ipython3",
   "version": "3.10.0"
  }
 },
 "nbformat": 4,
 "nbformat_minor": 2
}
